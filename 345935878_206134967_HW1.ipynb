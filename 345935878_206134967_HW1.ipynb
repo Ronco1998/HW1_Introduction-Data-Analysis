{
 "cells": [
  {
   "cell_type": "markdown",
   "metadata": {},
   "source": [
    "HW 1 - Question1"
   ]
  },
  {
   "cell_type": "code",
   "execution_count": 77,
   "metadata": {},
   "outputs": [],
   "source": [
    "import pandas as pd\n",
    "import numpy as np\n",
    "import matplotlib.pyplot as plt\n",
    "import seaborn as sns\n",
    "\n",
    "# Read the data\n",
    "league_df = pd.read_csv('HW1_data.csv')"
   ]
  },
  {
   "cell_type": "markdown",
   "metadata": {},
   "source": [
    "1. We have  684 observations"
   ]
  },
  {
   "cell_type": "code",
   "execution_count": 78,
   "metadata": {},
   "outputs": [
    {
     "name": "stdout",
     "output_type": "stream",
     "text": [
      "<class 'pandas.core.frame.DataFrame'>\n",
      "RangeIndex: 684 entries, 0 to 683\n",
      "Data columns (total 11 columns):\n",
      " #   Column    Non-Null Count  Dtype  \n",
      "---  ------    --------------  -----  \n",
      " 0   league    684 non-null    object \n",
      " 1   year      684 non-null    int64  \n",
      " 2   position  684 non-null    int64  \n",
      " 3   team      684 non-null    object \n",
      " 4   matches   684 non-null    int64  \n",
      " 5   wins      684 non-null    int64  \n",
      " 6   draws     684 non-null    int64  \n",
      " 7   loses     684 non-null    int64  \n",
      " 8   scored    684 non-null    int64  \n",
      " 9   conceded  681 non-null    float64\n",
      " 10  pts       684 non-null    int64  \n",
      "dtypes: float64(1), int64(8), object(2)\n",
      "memory usage: 58.9+ KB\n"
     ]
    }
   ],
   "source": [
    "league_df.info()"
   ]
  },
  {
   "cell_type": "markdown",
   "metadata": {},
   "source": [
    "2. Categorical fields:\n",
    "    - League\n",
    "    - Team\n",
    "\n",
    "    Numerical fields:\n",
    "    - Year\n",
    "    - Position\n",
    "    - Matches\n",
    "    - Wins\n",
    "    - Draws\n",
    "    - Loses\n",
    "    - Scored\n",
    "    - Conceded\n",
    "    - Pts"
   ]
  },
  {
   "cell_type": "code",
   "execution_count": 79,
   "metadata": {},
   "outputs": [
    {
     "data": {
      "text/plain": [
       "league       object\n",
       "year          int64\n",
       "position      int64\n",
       "team         object\n",
       "matches       int64\n",
       "wins          int64\n",
       "draws         int64\n",
       "loses         int64\n",
       "scored        int64\n",
       "conceded    float64\n",
       "pts           int64\n",
       "dtype: object"
      ]
     },
     "execution_count": 79,
     "metadata": {},
     "output_type": "execute_result"
    }
   ],
   "source": [
    "league_df.dtypes"
   ]
  },
  {
   "cell_type": "markdown",
   "metadata": {},
   "source": [
    "3.\n",
    "- Number of League unique values: 6\n",
    "- Number of Team unique values: 168"
   ]
  },
  {
   "cell_type": "code",
   "execution_count": 80,
   "metadata": {},
   "outputs": [
    {
     "name": "stdout",
     "output_type": "stream",
     "text": [
      "Number of league unique values: 6 \n",
      "\n",
      "Number of Teams unique values: 168\n"
     ]
    }
   ],
   "source": [
    "print(\"Number of league unique values:\", league_df[\"league\"].nunique(), \"\\n\")\n",
    "\n",
    "print(\"Number of Teams unique values:\", league_df[\"team\"].nunique())"
   ]
  },
  {
   "cell_type": "markdown",
   "metadata": {},
   "source": [
    "4.\n",
    "The fields with null values are: \n",
    "- conceded:\n",
    "    There are only 3 missing (null) values\n"
   ]
  },
  {
   "cell_type": "code",
   "execution_count": 81,
   "metadata": {},
   "outputs": [
    {
     "name": "stdout",
     "output_type": "stream",
     "text": [
      "<class 'pandas.core.frame.DataFrame'>\n",
      "RangeIndex: 684 entries, 0 to 683\n",
      "Data columns (total 11 columns):\n",
      " #   Column    Non-Null Count  Dtype  \n",
      "---  ------    --------------  -----  \n",
      " 0   league    684 non-null    object \n",
      " 1   year      684 non-null    int64  \n",
      " 2   position  684 non-null    int64  \n",
      " 3   team      684 non-null    object \n",
      " 4   matches   684 non-null    int64  \n",
      " 5   wins      684 non-null    int64  \n",
      " 6   draws     684 non-null    int64  \n",
      " 7   loses     684 non-null    int64  \n",
      " 8   scored    684 non-null    int64  \n",
      " 9   conceded  681 non-null    float64\n",
      " 10  pts       684 non-null    int64  \n",
      "dtypes: float64(1), int64(8), object(2)\n",
      "memory usage: 58.9+ KB\n"
     ]
    }
   ],
   "source": [
    "league_df.info()"
   ]
  },
  {
   "cell_type": "markdown",
   "metadata": {},
   "source": [
    "5. The number of teams in each league:\n",
    "   - Bundesliga:    24\n",
    "   - EPL:           30\n",
    "   - La_liga:       30\n",
    "   - Ligue_1:       29\n",
    "   - RFPL:          25\n",
    "   - Serie_A:       30\n",
    "\n",
    "The minimum number of teams in a league is - 24 "
   ]
  },
  {
   "cell_type": "code",
   "execution_count": 82,
   "metadata": {
    "scrolled": true
   },
   "outputs": [
    {
     "name": "stdout",
     "output_type": "stream",
     "text": [
      "league\n",
      "Bundesliga    24\n",
      "EPL           30\n",
      "La_liga       30\n",
      "Ligue_1       29\n",
      "RFPL          25\n",
      "Serie_A       30\n",
      "Name: team, dtype: int64 \n",
      "\n",
      "The minimum number of teams in a league is 24\n"
     ]
    }
   ],
   "source": [
    "teams_in_league = league_df.groupby(\"league\")[\"team\"].nunique()\n",
    "print(teams_in_league, \"\\n\")\n",
    "\n",
    "print(\"The minimum number of teams in a league is\", teams_in_league.min())"
   ]
  },
  {
   "cell_type": "markdown",
   "metadata": {},
   "source": [
    "7. The league with the biggest gap between the higest median number of goal and the lowest one is Ligue_1 with the higest one in 2018 and lowest one in 2019"
   ]
  },
  {
   "cell_type": "code",
   "execution_count": 89,
   "metadata": {
    "scrolled": true
   },
   "outputs": [
    {
     "name": "stdout",
     "output_type": "stream",
     "text": [
      "league      year\n",
      "Bundesliga  2014    44.0\n",
      "            2015    44.0\n",
      "            2016    44.5\n",
      "            2017    43.5\n",
      "            2018    53.0\n",
      "            2019    48.0\n",
      "EPL         2014    46.5\n",
      "            2015    48.5\n",
      "            2016    47.5\n",
      "            2017    44.5\n",
      "            2018    51.5\n",
      "            2019    46.5\n",
      "La_liga     2014    43.0\n",
      "            2015    45.5\n",
      "            2016    53.0\n",
      "            2017    46.5\n",
      "            2018    47.0\n",
      "            2019    46.0\n",
      "Ligue_1     2014    44.0\n",
      "            2015    46.0\n",
      "            2016    42.5\n",
      "            2017    45.5\n",
      "            2018    46.0\n",
      "            2019    33.0\n",
      "RFPL        2014    31.0\n",
      "            2015    34.5\n",
      "            2016    30.5\n",
      "            2017    31.5\n",
      "            2018    30.5\n",
      "            2019    36.5\n",
      "Serie_A     2014    49.0\n",
      "            2015    46.5\n",
      "            2016    56.0\n",
      "            2017    51.0\n",
      "            2018    51.5\n",
      "            2019    51.5\n",
      "Name: scored, dtype: float64\n"
     ]
    }
   ],
   "source": [
    "league_gb = league_df.groupby(['league', 'year'])['scored'].median()\n",
    "print(league_gb)"
   ]
  },
  {
   "cell_type": "markdown",
   "metadata": {},
   "source": [
    "8. \n",
    "- There is only one mistake in the line 425 in the league Serie_A, for the team Crotone in 2017.\n",
    "- In our opinion the mistake is from the pts column\n",
    "\n"
   ]
  },
  {
   "cell_type": "code",
   "execution_count": 134,
   "metadata": {
    "scrolled": true
   },
   "outputs": [
    {
     "data": {
      "text/html": [
       "<div>\n",
       "<style scoped>\n",
       "    .dataframe tbody tr th:only-of-type {\n",
       "        vertical-align: middle;\n",
       "    }\n",
       "\n",
       "    .dataframe tbody tr th {\n",
       "        vertical-align: top;\n",
       "    }\n",
       "\n",
       "    .dataframe thead th {\n",
       "        text-align: right;\n",
       "    }\n",
       "</style>\n",
       "<table border=\"1\" class=\"dataframe\">\n",
       "  <thead>\n",
       "    <tr style=\"text-align: right;\">\n",
       "      <th></th>\n",
       "      <th>league</th>\n",
       "      <th>year</th>\n",
       "      <th>position</th>\n",
       "      <th>team</th>\n",
       "      <th>matches</th>\n",
       "      <th>wins</th>\n",
       "      <th>draws</th>\n",
       "      <th>loses</th>\n",
       "      <th>scored</th>\n",
       "      <th>conceded</th>\n",
       "      <th>pts</th>\n",
       "      <th>calculate_point</th>\n",
       "      <th>comparaison</th>\n",
       "    </tr>\n",
       "  </thead>\n",
       "  <tbody>\n",
       "    <tr>\n",
       "      <th>425</th>\n",
       "      <td>Serie_A</td>\n",
       "      <td>2017</td>\n",
       "      <td>18</td>\n",
       "      <td>Crotone</td>\n",
       "      <td>38</td>\n",
       "      <td>9</td>\n",
       "      <td>8</td>\n",
       "      <td>21</td>\n",
       "      <td>40</td>\n",
       "      <td>66.0</td>\n",
       "      <td>180</td>\n",
       "      <td>35</td>\n",
       "      <td>False</td>\n",
       "    </tr>\n",
       "  </tbody>\n",
       "</table>\n",
       "</div>"
      ],
      "text/plain": [
       "      league  year  position     team  matches  wins  draws  loses  scored  \\\n",
       "425  Serie_A  2017        18  Crotone       38     9      8     21      40   \n",
       "\n",
       "     conceded  pts  calculate_point  comparaison  \n",
       "425      66.0  180               35        False  "
      ]
     },
     "execution_count": 134,
     "metadata": {},
     "output_type": "execute_result"
    }
   ],
   "source": [
    "def calculate_point(wins_col, draws_cols) :\n",
    "    return (wins_col*3 + draws_cols*1)\n",
    "    \n",
    "\n",
    "league_df['calculate_point'] = league_df.apply(lambda x: calculate_point(x['wins'], x['draws']), axis = 1 )\n",
    "\n",
    "comparaison = league_df['pts'] == league_df['calculate_point']\n",
    "\n",
    "liste = []\n",
    "for i in range(len(comparaison)) :\n",
    "    if comparaison[i] == False : \n",
    "        liste.append(i)\n",
    "\n",
    "league_df.iloc[liste]\n",
    "\n",
    "        "
   ]
  },
  {
   "cell_type": "markdown",
   "metadata": {},
   "source": [
    "9.\n",
    "- if we are locking for the league with the most chees teams all years combined, Serie_A is the one. \n",
    "- if we want to know which league was with the most chees teams in each years then we have : \n",
    "\n",
    "             .2014 : Serie_A\n",
    "             .2015 : EPL\n",
    "             .2016 : Serie_A\n",
    "             .2017 : Serie_A\n",
    "             .2018 : Serie_A\n",
    "             .2019 : Ligue_1"
   ]
  },
  {
   "cell_type": "code",
   "execution_count": 179,
   "metadata": {},
   "outputs": [
    {
     "name": "stdout",
     "output_type": "stream",
     "text": [
      "league\n",
      "Bundesliga    45\n",
      "EPL           49\n",
      "La_liga       45\n",
      "Ligue_1       50\n",
      "RFPL          44\n",
      "Serie_A       55\n",
      "Name: chees_team, dtype: int64 \n",
      "\n",
      "year  league    \n",
      "2014  Bundesliga     7\n",
      "      EPL            8\n",
      "      La_liga        8\n",
      "      Ligue_1        8\n",
      "      RFPL           8\n",
      "      Serie_A       10\n",
      "2015  Bundesliga     7\n",
      "      EPL           10\n",
      "      La_liga        7\n",
      "      Ligue_1        8\n",
      "      RFPL           7\n",
      "      Serie_A        8\n",
      "2016  Bundesliga     6\n",
      "      EPL            7\n",
      "      La_liga        8\n",
      "      Ligue_1        6\n",
      "      RFPL           7\n",
      "      Serie_A        9\n",
      "2017  Bundesliga     8\n",
      "      EPL            6\n",
      "      La_liga        7\n",
      "      Ligue_1        8\n",
      "      RFPL           7\n",
      "      Serie_A        9\n",
      "2018  Bundesliga     9\n",
      "      EPL            9\n",
      "      La_liga        6\n",
      "      Ligue_1        9\n",
      "      RFPL           9\n",
      "      Serie_A       10\n",
      "2019  Bundesliga     8\n",
      "      EPL            9\n",
      "      La_liga        9\n",
      "      Ligue_1       11\n",
      "      RFPL           6\n",
      "      Serie_A        9\n",
      "Name: chees_team, dtype: int64\n"
     ]
    },
    {
     "name": "stderr",
     "output_type": "stream",
     "text": [
      "C:\\Users\\SAM\\AppData\\Local\\Temp\\ipykernel_278472\\3672521040.py:3: SettingWithCopyWarning: \n",
      "A value is trying to be set on a copy of a slice from a DataFrame.\n",
      "Try using .loc[row_indexer,col_indexer] = value instead\n",
      "\n",
      "See the caveats in the documentation: https://pandas.pydata.org/pandas-docs/stable/user_guide/indexing.html#returning-a-view-versus-a-copy\n",
      "  new_league_df['chees_team'] = new_league_df['scored'] < new_league_df['conceded']\n"
     ]
    }
   ],
   "source": [
    "#create a new df without the line with null values\n",
    "new_league_df = league_df.dropna()\n",
    "\n",
    "#creat a new column that indicate if the team is a chess one or no.  \n",
    "new_league_df['chees_team'] = new_league_df['scored'] < new_league_df['conceded']\n",
    "\n",
    "\n",
    "nb_chees_team_per_yer = league_df.groupby(['year','league'])['chees_team'].sum()\n",
    "print(nb_chees_team_per_yer)\n",
    "\n",
    "league_gb = league_df.groupby('league')['chees_team'].sum()\n",
    "print(league_gb, '\\n')\n"
   ]
  },
  {
   "cell_type": "code",
   "execution_count": null,
   "metadata": {
    "scrolled": true
   },
   "outputs": [],
   "source": []
  },
  {
   "cell_type": "code",
   "execution_count": null,
   "metadata": {},
   "outputs": [],
   "source": []
  }
 ],
 "metadata": {
  "kernelspec": {
   "display_name": "Python 3 (ipykernel)",
   "language": "python",
   "name": "python3"
  },
  "language_info": {
   "codemirror_mode": {
    "name": "ipython",
    "version": 3
   },
   "file_extension": ".py",
   "mimetype": "text/x-python",
   "name": "python",
   "nbconvert_exporter": "python",
   "pygments_lexer": "ipython3",
   "version": "3.9.16"
  }
 },
 "nbformat": 4,
 "nbformat_minor": 2
}
