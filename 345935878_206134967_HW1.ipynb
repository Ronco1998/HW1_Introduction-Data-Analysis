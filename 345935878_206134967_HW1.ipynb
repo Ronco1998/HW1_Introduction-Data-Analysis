{
 "cells": [
  {
   "attachments": {},
   "cell_type": "markdown",
   "metadata": {},
   "source": [
    "# HW 1 - Question1"
   ]
  },
  {
   "cell_type": "code",
   "execution_count": 2,
   "metadata": {},
   "outputs": [],
   "source": [
    "import pandas as pd\n",
    "import numpy as np\n",
    "import matplotlib.pyplot as plt\n",
    "import seaborn as sns\n",
    "\n",
    "# Read the data\n",
    "league_df = pd.read_csv('HW1_data.csv')"
   ]
  },
  {
   "attachments": {},
   "cell_type": "markdown",
   "metadata": {},
   "source": [
    "1. We have  684 observations"
   ]
  },
  {
   "cell_type": "code",
   "execution_count": 41,
   "metadata": {},
   "outputs": [
    {
     "name": "stdout",
     "output_type": "stream",
     "text": [
      "<class 'pandas.core.frame.DataFrame'>\n",
      "RangeIndex: 684 entries, 0 to 683\n",
      "Data columns (total 11 columns):\n",
      " #   Column    Non-Null Count  Dtype  \n",
      "---  ------    --------------  -----  \n",
      " 0   league    684 non-null    object \n",
      " 1   year      684 non-null    int64  \n",
      " 2   position  684 non-null    int64  \n",
      " 3   team      684 non-null    object \n",
      " 4   matches   684 non-null    int64  \n",
      " 5   wins      684 non-null    int64  \n",
      " 6   draws     684 non-null    int64  \n",
      " 7   loses     684 non-null    int64  \n",
      " 8   scored    684 non-null    int64  \n",
      " 9   conceded  681 non-null    float64\n",
      " 10  pts       684 non-null    int64  \n",
      "dtypes: float64(1), int64(8), object(2)\n",
      "memory usage: 58.9+ KB\n"
     ]
    }
   ],
   "source": [
    "league_df.info()"
   ]
  },
  {
   "attachments": {},
   "cell_type": "markdown",
   "metadata": {},
   "source": [
    "### Categorical fields:\n",
    "    - League\n",
    "    - Team\n",
    "\n",
    "### Numerical fields:\n",
    "    - Year\n",
    "    - Position\n",
    "    - Matches\n",
    "    - Wins\n",
    "    - Draws\n",
    "    - Loses\n",
    "    - Scored\n",
    "    - Conceded\n",
    "    - Pts"
   ]
  },
  {
   "cell_type": "code",
   "execution_count": 42,
   "metadata": {},
   "outputs": [
    {
     "data": {
      "text/plain": [
       "league       object\n",
       "year          int64\n",
       "position      int64\n",
       "team         object\n",
       "matches       int64\n",
       "wins          int64\n",
       "draws         int64\n",
       "loses         int64\n",
       "scored        int64\n",
       "conceded    float64\n",
       "pts           int64\n",
       "dtype: object"
      ]
     },
     "execution_count": 42,
     "metadata": {},
     "output_type": "execute_result"
    }
   ],
   "source": [
    "league_df.dtypes"
   ]
  },
  {
   "attachments": {},
   "cell_type": "markdown",
   "metadata": {},
   "source": [
    "- Number of League unique values: 6\n",
    "- Number of Team unique values: 168"
   ]
  },
  {
   "cell_type": "code",
   "execution_count": 10,
   "metadata": {},
   "outputs": [
    {
     "name": "stdout",
     "output_type": "stream",
     "text": [
      "Number of league unique values: 6 \n",
      "\n",
      "Number of Teams unique values: 168\n",
      "Numer of unique year in each column: [2014 2015 2016 2017 2018 2019]\n"
     ]
    }
   ],
   "source": [
    "print(\"Number of league unique values:\", league_df[\"league\"].nunique(), \"\\n\")\n",
    "\n",
    "print(\"Number of Teams unique values:\", league_df[\"team\"].nunique())\n"
   ]
  },
  {
   "attachments": {},
   "cell_type": "markdown",
   "metadata": {},
   "source": [
    "#### The fields with null values are: \n",
    "- conceded:\n",
    "    There are only 3 missing (null) values\n"
   ]
  },
  {
   "cell_type": "code",
   "execution_count": 44,
   "metadata": {},
   "outputs": [
    {
     "data": {
      "text/html": [
       "<div>\n",
       "<style scoped>\n",
       "    .dataframe tbody tr th:only-of-type {\n",
       "        vertical-align: middle;\n",
       "    }\n",
       "\n",
       "    .dataframe tbody tr th {\n",
       "        vertical-align: top;\n",
       "    }\n",
       "\n",
       "    .dataframe thead th {\n",
       "        text-align: right;\n",
       "    }\n",
       "</style>\n",
       "<table border=\"1\" class=\"dataframe\">\n",
       "  <thead>\n",
       "    <tr style=\"text-align: right;\">\n",
       "      <th></th>\n",
       "      <th>league</th>\n",
       "      <th>year</th>\n",
       "      <th>position</th>\n",
       "      <th>team</th>\n",
       "      <th>matches</th>\n",
       "      <th>wins</th>\n",
       "      <th>draws</th>\n",
       "      <th>loses</th>\n",
       "      <th>scored</th>\n",
       "      <th>conceded</th>\n",
       "      <th>pts</th>\n",
       "    </tr>\n",
       "  </thead>\n",
       "  <tbody>\n",
       "    <tr>\n",
       "      <th>0</th>\n",
       "      <td>La_liga</td>\n",
       "      <td>2014</td>\n",
       "      <td>1</td>\n",
       "      <td>Barcelona</td>\n",
       "      <td>38</td>\n",
       "      <td>30</td>\n",
       "      <td>4</td>\n",
       "      <td>4</td>\n",
       "      <td>110</td>\n",
       "      <td>21.0</td>\n",
       "      <td>94</td>\n",
       "    </tr>\n",
       "    <tr>\n",
       "      <th>1</th>\n",
       "      <td>La_liga</td>\n",
       "      <td>2014</td>\n",
       "      <td>2</td>\n",
       "      <td>Real Madrid</td>\n",
       "      <td>38</td>\n",
       "      <td>30</td>\n",
       "      <td>2</td>\n",
       "      <td>6</td>\n",
       "      <td>118</td>\n",
       "      <td>38.0</td>\n",
       "      <td>92</td>\n",
       "    </tr>\n",
       "    <tr>\n",
       "      <th>2</th>\n",
       "      <td>La_liga</td>\n",
       "      <td>2014</td>\n",
       "      <td>3</td>\n",
       "      <td>Atletico Madrid</td>\n",
       "      <td>38</td>\n",
       "      <td>23</td>\n",
       "      <td>9</td>\n",
       "      <td>6</td>\n",
       "      <td>67</td>\n",
       "      <td>29.0</td>\n",
       "      <td>78</td>\n",
       "    </tr>\n",
       "    <tr>\n",
       "      <th>3</th>\n",
       "      <td>La_liga</td>\n",
       "      <td>2014</td>\n",
       "      <td>4</td>\n",
       "      <td>Valencia</td>\n",
       "      <td>38</td>\n",
       "      <td>22</td>\n",
       "      <td>11</td>\n",
       "      <td>5</td>\n",
       "      <td>70</td>\n",
       "      <td>32.0</td>\n",
       "      <td>77</td>\n",
       "    </tr>\n",
       "    <tr>\n",
       "      <th>4</th>\n",
       "      <td>La_liga</td>\n",
       "      <td>2014</td>\n",
       "      <td>5</td>\n",
       "      <td>Sevilla</td>\n",
       "      <td>38</td>\n",
       "      <td>23</td>\n",
       "      <td>7</td>\n",
       "      <td>8</td>\n",
       "      <td>71</td>\n",
       "      <td>45.0</td>\n",
       "      <td>76</td>\n",
       "    </tr>\n",
       "  </tbody>\n",
       "</table>\n",
       "</div>"
      ],
      "text/plain": [
       "    league  year  position             team  matches  wins  draws  loses  \\\n",
       "0  La_liga  2014         1        Barcelona       38    30      4      4   \n",
       "1  La_liga  2014         2      Real Madrid       38    30      2      6   \n",
       "2  La_liga  2014         3  Atletico Madrid       38    23      9      6   \n",
       "3  La_liga  2014         4         Valencia       38    22     11      5   \n",
       "4  La_liga  2014         5          Sevilla       38    23      7      8   \n",
       "\n",
       "   scored  conceded  pts  \n",
       "0     110      21.0   94  \n",
       "1     118      38.0   92  \n",
       "2      67      29.0   78  \n",
       "3      70      32.0   77  \n",
       "4      71      45.0   76  "
      ]
     },
     "execution_count": 44,
     "metadata": {},
     "output_type": "execute_result"
    }
   ],
   "source": [
    "league_df.head()"
   ]
  },
  {
   "attachments": {},
   "cell_type": "markdown",
   "metadata": {},
   "source": [
    "5. The number of teams in each league:\n",
    "   - Bundesliga:    24\n",
    "   - EPL:           30\n",
    "   - La_liga:       30\n",
    "   - Ligue_1:       29\n",
    "   - RFPL:          25\n",
    "   - Serie_A:       30\n",
    "\n",
    "The minimum number of teams in a league is - 24 "
   ]
  },
  {
   "cell_type": "code",
   "execution_count": 45,
   "metadata": {},
   "outputs": [
    {
     "name": "stdout",
     "output_type": "stream",
     "text": [
      "league\n",
      "Bundesliga    24\n",
      "EPL           30\n",
      "La_liga       30\n",
      "Ligue_1       29\n",
      "RFPL          25\n",
      "Serie_A       30\n",
      "Name: team, dtype: int64 \n",
      "\n",
      "The minimum number of teams in a league is 24\n"
     ]
    }
   ],
   "source": [
    "teams_in_league = league_df.groupby(\"league\")[\"team\"].nunique()\n",
    "print(teams_in_league, \"\\n\")\n",
    "\n",
    "print(\"The minimum number of teams in a league is\", teams_in_league.min())"
   ]
  },
  {
   "attachments": {},
   "cell_type": "markdown",
   "metadata": {},
   "source": [
    "6. According to the graph, the more the team score, the higher is her rank (position)"
   ]
  },
  {
   "cell_type": "code",
   "execution_count": 79,
   "metadata": {},
   "outputs": [
    {
     "name": "stderr",
     "output_type": "stream",
     "text": [
      "C:\\Users\\ronic\\AppData\\Local\\Temp\\ipykernel_10952\\1507017822.py:2: FutureWarning: The default value of numeric_only in DataFrameGroupBy.mean is deprecated. In a future version, numeric_only will default to False. Either specify numeric_only or select only columns which should be valid for the function.\n",
      "  mean_scored = league_df.groupby([\"year\", \"team\"]).mean()\n"
     ]
    },
    {
     "data": {
      "text/plain": [
       "year  team                   \n",
       "2014  AC Milan                   56.0\n",
       "      Almeria                    35.0\n",
       "      Amkar                      25.0\n",
       "      Arsenal                    71.0\n",
       "      Arsenal Tula               20.0\n",
       "                                 ... \n",
       "2019  Werder Bremen              42.0\n",
       "      West Ham                   49.0\n",
       "      Wolfsburg                  48.0\n",
       "      Wolverhampton Wanderers    51.0\n",
       "      Zenit St. Petersburg       65.0\n",
       "Name: scored, Length: 684, dtype: float64"
      ]
     },
     "metadata": {},
     "output_type": "display_data"
    },
    {
     "data": {
      "text/plain": [
       "(1.0, 21.33177719825615)"
      ]
     },
     "execution_count": 79,
     "metadata": {},
     "output_type": "execute_result"
    },
    {
     "data": {
      "image/png": "[encoded data removed]",
      "text/plain": [
       "<Figure size 640x480 with 1 Axes>"
      ]
     },
     "metadata": {},
     "output_type": "display_data"
    }
   ],
   "source": [
    "# the mean of scored goals for each team in each year\n",
    "mean_scored = league_df.groupby([\"year\", \"team\"]).mean()\n",
    "display(mean_scored[\"scored\"])\n",
    "\n",
    "# line plot of the mean of scored goals and position for each team in each year\n",
    "# x label is the mean of scored goals\n",
    "scord_position = sns.regplot(data=mean_scored, x=\"scored\", y=\"position\")\n",
    "scord_position.set(xlabel=\"Mean of scored goals\", ylabel=\"Position\")\n",
    "scord_position.set_ylim(bottom=1)\n"
   ]
  },
  {
   "attachments": {},
   "cell_type": "markdown",
   "metadata": {},
   "source": [
    "7. The league with the biggest gap between the higest median number of goal and the lowest one is Ligue_1 with the higest one in 2015 and lowest one in 2019"
   ]
  },
  {
   "cell_type": "code",
   "execution_count": 86,
   "metadata": {},
   "outputs": [
    {
     "name": "stdout",
     "output_type": "stream",
     "text": [
      "The league with the maximum difference is Ligue_1 with the value of 13.0 \n",
      "\n"
     ]
    },
    {
     "data": {
      "text/plain": [
       "idxmax    2015\n",
       "idxmin    2019\n",
       "Name: scored, dtype: int64"
      ]
     },
     "metadata": {},
     "output_type": "display_data"
    },
    {
     "data": {
      "text/plain": [
       "<Axes: xlabel='league'>"
      ]
     },
     "execution_count": 86,
     "metadata": {},
     "output_type": "execute_result"
    },
    {
     "data": {
      "image/png": "[encoded data removed]",
      "text/plain": [
       "<Figure size 1000x500 with 1 Axes>"
      ]
     },
     "metadata": {},
     "output_type": "display_data"
    }
   ],
   "source": [
    "league_gb = league_df.groupby(['league', 'year'])['scored'].median()\n",
    "\n",
    "#the difference between the maximum and minimum of median of scored goals for each league in each year\n",
    "min_max = league_gb.unstack().apply(lambda x: x.max() - x.min(), axis=1)\n",
    "# the league with the maximum difference and the name of the league\n",
    "print(\"The league with the maximum difference is\", min_max.idxmax(), \"with the value of\", min_max.max(), \"\\n\")\n",
    "\n",
    "# show the min and max of median of scored goals for ligue_1 in what yaer\n",
    "display(league_gb.loc['Ligue_1'].agg(['idxmax', 'idxmin']))\n",
    "\n",
    "# bar plot of the median of scored goals for each league in each year\n",
    "league_gb.unstack().plot(kind='bar', figsize=(10, 5))"
   ]
  },
  {
   "attachments": {},
   "cell_type": "markdown",
   "metadata": {},
   "source": [
    "8. \n",
    "- There is only one mistake in the line 425 in the league Serie_A, for the team Crotone in 2017.\n",
    "- In our opinion the mistake is from the pts column\n"
   ]
  },
  {
   "cell_type": "code",
   "execution_count": 87,
   "metadata": {},
   "outputs": [
    {
     "data": {
      "text/html": [
       "<div>\n",
       "<style scoped>\n",
       "    .dataframe tbody tr th:only-of-type {\n",
       "        vertical-align: middle;\n",
       "    }\n",
       "\n",
       "    .dataframe tbody tr th {\n",
       "        vertical-align: top;\n",
       "    }\n",
       "\n",
       "    .dataframe thead th {\n",
       "        text-align: right;\n",
       "    }\n",
       "</style>\n",
       "<table border=\"1\" class=\"dataframe\">\n",
       "  <thead>\n",
       "    <tr style=\"text-align: right;\">\n",
       "      <th></th>\n",
       "      <th>league</th>\n",
       "      <th>year</th>\n",
       "      <th>position</th>\n",
       "      <th>team</th>\n",
       "      <th>matches</th>\n",
       "      <th>wins</th>\n",
       "      <th>draws</th>\n",
       "      <th>loses</th>\n",
       "      <th>scored</th>\n",
       "      <th>conceded</th>\n",
       "      <th>pts</th>\n",
       "      <th>calculate_point</th>\n",
       "    </tr>\n",
       "  </thead>\n",
       "  <tbody>\n",
       "    <tr>\n",
       "      <th>425</th>\n",
       "      <td>Serie_A</td>\n",
       "      <td>2017</td>\n",
       "      <td>18</td>\n",
       "      <td>Crotone</td>\n",
       "      <td>38</td>\n",
       "      <td>9</td>\n",
       "      <td>8</td>\n",
       "      <td>21</td>\n",
       "      <td>40</td>\n",
       "      <td>66.0</td>\n",
       "      <td>180</td>\n",
       "      <td>35</td>\n",
       "    </tr>\n",
       "  </tbody>\n",
       "</table>\n",
       "</div>"
      ],
      "text/plain": [
       "      league  year  position     team  matches  wins  draws  loses  scored  \\\n",
       "425  Serie_A  2017        18  Crotone       38     9      8     21      40   \n",
       "\n",
       "     conceded  pts  calculate_point  \n",
       "425      66.0  180               35  "
      ]
     },
     "execution_count": 87,
     "metadata": {},
     "output_type": "execute_result"
    }
   ],
   "source": [
    "def calculate_point(wins_col, draws_cols) :\n",
    "    return (wins_col*3 + draws_cols*1)\n",
    "    \n",
    "\n",
    "league_df['calculate_point'] = league_df.apply(lambda x: calculate_point(x['wins'], x['draws']), axis = 1 )\n",
    "\n",
    "comparaison = league_df['pts'] == league_df['calculate_point']\n",
    "\n",
    "liste = []\n",
    "for i in range(len(comparaison)) :\n",
    "    if comparaison[i] == False : \n",
    "        liste.append(i)\n",
    "\n",
    "league_df.iloc[liste]"
   ]
  },
  {
   "attachments": {},
   "cell_type": "markdown",
   "metadata": {},
   "source": [
    "9.\n",
    "- if we are locking for the league with the most chees teams all years combined, Serie_A is the one. \n",
    "- if we want to know which league was with the most chees teams in each years then we have : \n",
    "\n",
    "             .2014 : Serie_A\n",
    "             .2015 : EPL\n",
    "             .2016 : Serie_A\n",
    "             .2017 : Serie_A\n",
    "             .2018 : Serie_A\n",
    "             .2019 : Ligue_1"
   ]
  },
  {
   "cell_type": "code",
   "execution_count": 88,
   "metadata": {},
   "outputs": [
    {
     "name": "stderr",
     "output_type": "stream",
     "text": [
      "C:\\Users\\ronic\\AppData\\Local\\Temp\\ipykernel_10952\\3966629485.py:5: SettingWithCopyWarning: \n",
      "A value is trying to be set on a copy of a slice from a DataFrame.\n",
      "Try using .loc[row_indexer,col_indexer] = value instead\n",
      "\n",
      "See the caveats in the documentation: https://pandas.pydata.org/pandas-docs/stable/user_guide/indexing.html#returning-a-view-versus-a-copy\n",
      "  new_league_df['chees_team'] = new_league_df['scored'] < new_league_df['conceded']\n"
     ]
    },
    {
     "ename": "KeyError",
     "evalue": "'Column not found: chees_team'",
     "output_type": "error",
     "traceback": [
      "\u001b[1;31m---------------------------------------------------------------------------\u001b[0m",
      "\u001b[1;31mKeyError\u001b[0m                                  Traceback (most recent call last)",
      "Cell \u001b[1;32mIn[88], line 8\u001b[0m\n\u001b[0;32m      4\u001b[0m \u001b[39m#creat a new column that indicate if the team is a chess one or no.  \u001b[39;00m\n\u001b[0;32m      5\u001b[0m new_league_df[\u001b[39m'\u001b[39m\u001b[39mchees_team\u001b[39m\u001b[39m'\u001b[39m] \u001b[39m=\u001b[39m new_league_df[\u001b[39m'\u001b[39m\u001b[39mscored\u001b[39m\u001b[39m'\u001b[39m] \u001b[39m<\u001b[39m new_league_df[\u001b[39m'\u001b[39m\u001b[39mconceded\u001b[39m\u001b[39m'\u001b[39m]\n\u001b[1;32m----> 8\u001b[0m nb_chees_team_per_yer \u001b[39m=\u001b[39m league_df\u001b[39m.\u001b[39;49mgroupby([\u001b[39m'\u001b[39;49m\u001b[39myear\u001b[39;49m\u001b[39m'\u001b[39;49m,\u001b[39m'\u001b[39;49m\u001b[39mleague\u001b[39;49m\u001b[39m'\u001b[39;49m])[\u001b[39m'\u001b[39;49m\u001b[39mchees_team\u001b[39;49m\u001b[39m'\u001b[39;49m]\u001b[39m.\u001b[39msum()\n\u001b[0;32m      9\u001b[0m \u001b[39mprint\u001b[39m(nb_chees_team_per_yer)\n\u001b[0;32m     11\u001b[0m league_gb \u001b[39m=\u001b[39m league_df\u001b[39m.\u001b[39mgroupby(\u001b[39m'\u001b[39m\u001b[39mleague\u001b[39m\u001b[39m'\u001b[39m)[\u001b[39m'\u001b[39m\u001b[39mchees_team\u001b[39m\u001b[39m'\u001b[39m]\u001b[39m.\u001b[39msum()\n",
      "File \u001b[1;32mc:\\Users\\ronic\\anaconda3\\lib\\site-packages\\pandas\\core\\groupby\\generic.py:1416\u001b[0m, in \u001b[0;36mDataFrameGroupBy.__getitem__\u001b[1;34m(self, key)\u001b[0m\n\u001b[0;32m   1407\u001b[0m \u001b[39mif\u001b[39;00m \u001b[39misinstance\u001b[39m(key, \u001b[39mtuple\u001b[39m) \u001b[39mand\u001b[39;00m \u001b[39mlen\u001b[39m(key) \u001b[39m>\u001b[39m \u001b[39m1\u001b[39m:\n\u001b[0;32m   1408\u001b[0m     \u001b[39m# if len == 1, then it becomes a SeriesGroupBy and this is actually\u001b[39;00m\n\u001b[0;32m   1409\u001b[0m     \u001b[39m# valid syntax, so don't raise warning\u001b[39;00m\n\u001b[0;32m   1410\u001b[0m     warnings\u001b[39m.\u001b[39mwarn(\n\u001b[0;32m   1411\u001b[0m         \u001b[39m\"\u001b[39m\u001b[39mIndexing with multiple keys (implicitly converted to a tuple \u001b[39m\u001b[39m\"\u001b[39m\n\u001b[0;32m   1412\u001b[0m         \u001b[39m\"\u001b[39m\u001b[39mof keys) will be deprecated, use a list instead.\u001b[39m\u001b[39m\"\u001b[39m,\n\u001b[0;32m   1413\u001b[0m         \u001b[39mFutureWarning\u001b[39;00m,\n\u001b[0;32m   1414\u001b[0m         stacklevel\u001b[39m=\u001b[39mfind_stack_level(),\n\u001b[0;32m   1415\u001b[0m     )\n\u001b[1;32m-> 1416\u001b[0m \u001b[39mreturn\u001b[39;00m \u001b[39msuper\u001b[39;49m()\u001b[39m.\u001b[39;49m\u001b[39m__getitem__\u001b[39;49m(key)\n",
      "File \u001b[1;32mc:\\Users\\ronic\\anaconda3\\lib\\site-packages\\pandas\\core\\base.py:248\u001b[0m, in \u001b[0;36mSelectionMixin.__getitem__\u001b[1;34m(self, key)\u001b[0m\n\u001b[0;32m    246\u001b[0m \u001b[39melse\u001b[39;00m:\n\u001b[0;32m    247\u001b[0m     \u001b[39mif\u001b[39;00m key \u001b[39mnot\u001b[39;00m \u001b[39min\u001b[39;00m \u001b[39mself\u001b[39m\u001b[39m.\u001b[39mobj:\n\u001b[1;32m--> 248\u001b[0m         \u001b[39mraise\u001b[39;00m \u001b[39mKeyError\u001b[39;00m(\u001b[39mf\u001b[39m\u001b[39m\"\u001b[39m\u001b[39mColumn not found: \u001b[39m\u001b[39m{\u001b[39;00mkey\u001b[39m}\u001b[39;00m\u001b[39m\"\u001b[39m)\n\u001b[0;32m    249\u001b[0m     subset \u001b[39m=\u001b[39m \u001b[39mself\u001b[39m\u001b[39m.\u001b[39mobj[key]\n\u001b[0;32m    250\u001b[0m     ndim \u001b[39m=\u001b[39m subset\u001b[39m.\u001b[39mndim\n",
      "\u001b[1;31mKeyError\u001b[0m: 'Column not found: chees_team'"
     ]
    }
   ],
   "source": [
    "#create a new df without the line with null values\n",
    "new_league_df = league_df.dropna()\n",
    "\n",
    "#creat a new column that indicate if the team is a chess one or no.  \n",
    "new_league_df['chees_team'] = new_league_df['scored'] < new_league_df['conceded']\n",
    "\n",
    "\n",
    "nb_chees_team_per_yer = league_df.groupby(['year','league'])['chees_team'].sum()\n",
    "print(nb_chees_team_per_yer)\n",
    "\n",
    "league_gb = league_df.groupby('league')['chees_team'].sum()\n",
    "print(league_gb, '\\n')\n"
   ]
  }
 ],
 "metadata": {
  "kernelspec": {
   "display_name": "base",
   "language": "python",
   "name": "python3"
  },
  "language_info": {
   "codemirror_mode": {
    "name": "ipython",
    "version": 3
   },
   "file_extension": ".py",
   "mimetype": "text/x-python",
   "name": "python",
   "nbconvert_exporter": "python",
   "pygments_lexer": "ipython3",
   "version": "3.10.9"
  },
  "orig_nbformat": 4
 },
 "nbformat": 4,
 "nbformat_minor": 2
}
