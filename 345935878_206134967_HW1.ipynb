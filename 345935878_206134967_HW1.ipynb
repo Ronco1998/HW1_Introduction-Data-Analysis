{
 "cells": [
  {
   "cell_type": "markdown",
   "metadata": {},
   "source": [
    "HW 1 - Question1"
   ]
  },
  {
   "cell_type": "code",
   "execution_count": 9,
   "metadata": {},
   "outputs": [],
   "source": [
    "import pandas as pd\n",
    "import numpy as np\n",
    "import matplotlib.pyplot as plt\n",
    "import seaborn as sns\n",
    "\n",
    "# Read the data\n",
    "league_df = pd.read_csv('HW1_data.csv')"
   ]
  },
  {
   "attachments": {},
   "cell_type": "markdown",
   "metadata": {},
   "source": [
    "1. We have  684 observations"
   ]
  },
  {
   "cell_type": "code",
   "execution_count": 11,
   "metadata": {},
   "outputs": [
    {
     "name": "stdout",
     "output_type": "stream",
     "text": [
      "<class 'pandas.core.frame.DataFrame'>\n",
      "RangeIndex: 684 entries, 0 to 683\n",
      "Data columns (total 11 columns):\n",
      " #   Column    Non-Null Count  Dtype  \n",
      "---  ------    --------------  -----  \n",
      " 0   league    684 non-null    object \n",
      " 1   year      684 non-null    int64  \n",
      " 2   position  684 non-null    int64  \n",
      " 3   team      684 non-null    object \n",
      " 4   matches   684 non-null    int64  \n",
      " 5   wins      684 non-null    int64  \n",
      " 6   draws     684 non-null    int64  \n",
      " 7   loses     684 non-null    int64  \n",
      " 8   scored    684 non-null    int64  \n",
      " 9   conceded  681 non-null    float64\n",
      " 10  pts       684 non-null    int64  \n",
      "dtypes: float64(1), int64(8), object(2)\n",
      "memory usage: 58.9+ KB\n",
      "None\n"
     ]
    }
   ],
   "source": [
    "league_df.info()"
   ]
  },
  {
   "attachments": {},
   "cell_type": "markdown",
   "metadata": {},
   "source": [
    "2. Categorical fields:\n",
    "    - League\n",
    "    - Team\n",
    "\n",
    "    Numerical fields:\n",
    "    - Year\n",
    "    - Position\n",
    "    - Matches\n",
    "    - Wins\n",
    "    - Draws\n",
    "    - Loses\n",
    "    - Scored\n",
    "    - Conceded\n",
    "    - Pts"
   ]
  },
  {
   "cell_type": "code",
   "execution_count": 14,
   "metadata": {},
   "outputs": [
    {
     "data": {
      "text/plain": [
       "league       object\n",
       "year          int64\n",
       "position      int64\n",
       "team         object\n",
       "matches       int64\n",
       "wins          int64\n",
       "draws         int64\n",
       "loses         int64\n",
       "scored        int64\n",
       "conceded    float64\n",
       "pts           int64\n",
       "dtype: object"
      ]
     },
     "execution_count": 14,
     "metadata": {},
     "output_type": "execute_result"
    }
   ],
   "source": [
    "league_df.dtypes"
   ]
  },
  {
   "attachments": {},
   "cell_type": "markdown",
   "metadata": {},
   "source": [
    "Number of League unique values: 6\n",
    "Number of Team unique values: 168"
   ]
  },
  {
   "cell_type": "code",
   "execution_count": 65,
   "metadata": {},
   "outputs": [
    {
     "name": "stdout",
     "output_type": "stream",
     "text": [
      "Number of league unique values: 6 \n",
      "\n",
      "Number of Teams unique values: 168\n"
     ]
    }
   ],
   "source": [
    "print(\"Number of league unique values:\", league_df[\"league\"].nunique(), \"\\n\")\n",
    "\n",
    "print(\"Number of Teams unique values:\", league_df[\"team\"].nunique())"
   ]
  },
  {
   "attachments": {},
   "cell_type": "markdown",
   "metadata": {},
   "source": [
    "The fields with null values are: \n",
    "- conceded:\n",
    "    There are only 3 missing (null) values\n"
   ]
  },
  {
   "cell_type": "code",
   "execution_count": 38,
   "metadata": {},
   "outputs": [
    {
     "name": "stdout",
     "output_type": "stream",
     "text": [
      "<class 'pandas.core.frame.DataFrame'>\n",
      "RangeIndex: 684 entries, 0 to 683\n",
      "Data columns (total 11 columns):\n",
      " #   Column    Non-Null Count  Dtype  \n",
      "---  ------    --------------  -----  \n",
      " 0   league    684 non-null    object \n",
      " 1   year      684 non-null    int64  \n",
      " 2   position  684 non-null    int64  \n",
      " 3   team      684 non-null    object \n",
      " 4   matches   684 non-null    int64  \n",
      " 5   wins      684 non-null    int64  \n",
      " 6   draws     684 non-null    int64  \n",
      " 7   loses     684 non-null    int64  \n",
      " 8   scored    684 non-null    int64  \n",
      " 9   conceded  681 non-null    float64\n",
      " 10  pts       684 non-null    int64  \n",
      "dtypes: float64(1), int64(8), object(2)\n",
      "memory usage: 58.9+ KB\n"
     ]
    }
   ],
   "source": [
    "league_df.head()"
   ]
  },
  {
   "attachments": {},
   "cell_type": "markdown",
   "metadata": {},
   "source": [
    "5. The number of teams in each league:\n",
    "   - Bundesliga:    24\n",
    "   - EPL:           30\n",
    "   - La_liga:       30\n",
    "   - Ligue_1:       29\n",
    "   - RFPL:          25\n",
    "   - Serie_A:       30\n",
    "\n",
    "The minimum number of teams in a league is - 24 "
   ]
  },
  {
   "cell_type": "code",
   "execution_count": 63,
   "metadata": {},
   "outputs": [
    {
     "name": "stdout",
     "output_type": "stream",
     "text": [
      "league\n",
      "Bundesliga    24\n",
      "EPL           30\n",
      "La_liga       30\n",
      "Ligue_1       29\n",
      "RFPL          25\n",
      "Serie_A       30\n",
      "Name: team, dtype: int64 \n",
      "\n",
      "The minimum number of teams in a league is 24\n"
     ]
    }
   ],
   "source": [
    "teams_in_league = league_df.groupby(\"league\")[\"team\"].nunique()\n",
    "print(teams_in_league, \"\\n\")\n",
    "\n",
    "print(\"The minimum number of teams in a league is\", teams_in_league.min())"
   ]
  }
 ],
 "metadata": {
  "kernelspec": {
   "display_name": "base",
   "language": "python",
   "name": "python3"
  },
  "language_info": {
   "codemirror_mode": {
    "name": "ipython",
    "version": 3
   },
   "file_extension": ".py",
   "mimetype": "text/x-python",
   "name": "python",
   "nbconvert_exporter": "python",
   "pygments_lexer": "ipython3",
   "version": "3.10.9"
  },
  "orig_nbformat": 4
 },
 "nbformat": 4,
 "nbformat_minor": 2
}
