{
 "cells": [
  {
   "cell_type": "markdown",
   "metadata": {},
   "source": [
    "HW 1 - Question1"
   ]
  },
  {
   "cell_type": "code",
   "execution_count": 77,
   "metadata": {},
   "outputs": [],
   "source": [
    "import pandas as pd\n",
    "import numpy as np\n",
    "import matplotlib.pyplot as plt\n",
    "import seaborn as sns\n",
    "\n",
    "# Read the data\n",
    "league_df = pd.read_csv('HW1_data.csv')"
   ]
  },
  {
   "cell_type": "markdown",
   "metadata": {},
   "source": [
    "1. We have  684 observations"
   ]
  },
  {
   "cell_type": "code",
   "execution_count": 78,
   "metadata": {},
   "outputs": [
    {
     "name": "stdout",
     "output_type": "stream",
     "text": [
      "<class 'pandas.core.frame.DataFrame'>\n",
      "RangeIndex: 684 entries, 0 to 683\n",
      "Data columns (total 11 columns):\n",
      " #   Column    Non-Null Count  Dtype  \n",
      "---  ------    --------------  -----  \n",
      " 0   league    684 non-null    object \n",
      " 1   year      684 non-null    int64  \n",
      " 2   position  684 non-null    int64  \n",
      " 3   team      684 non-null    object \n",
      " 4   matches   684 non-null    int64  \n",
      " 5   wins      684 non-null    int64  \n",
      " 6   draws     684 non-null    int64  \n",
      " 7   loses     684 non-null    int64  \n",
      " 8   scored    684 non-null    int64  \n",
      " 9   conceded  681 non-null    float64\n",
      " 10  pts       684 non-null    int64  \n",
      "dtypes: float64(1), int64(8), object(2)\n",
      "memory usage: 58.9+ KB\n"
     ]
    }
   ],
   "source": [
    "league_df.info()"
   ]
  },
  {
   "cell_type": "markdown",
   "metadata": {},
   "source": [
    "2. Categorical fields:\n",
    "    - League\n",
    "    - Team\n",
    "\n",
    "    Numerical fields:\n",
    "    - Year\n",
    "    - Position\n",
    "    - Matches\n",
    "    - Wins\n",
    "    - Draws\n",
    "    - Loses\n",
    "    - Scored\n",
    "    - Conceded\n",
    "    - Pts"
   ]
  },
  {
   "cell_type": "code",
   "execution_count": 79,
   "metadata": {},
   "outputs": [
    {
     "data": {
      "text/plain": [
       "league       object\n",
       "year          int64\n",
       "position      int64\n",
       "team         object\n",
       "matches       int64\n",
       "wins          int64\n",
       "draws         int64\n",
       "loses         int64\n",
       "scored        int64\n",
       "conceded    float64\n",
       "pts           int64\n",
       "dtype: object"
      ]
     },
     "execution_count": 79,
     "metadata": {},
     "output_type": "execute_result"
    }
   ],
   "source": [
    "league_df.dtypes"
   ]
  },
  {
   "cell_type": "markdown",
   "metadata": {},
   "source": [
    "Number of League unique values: 6\n",
    "Number of Team unique values: 168"
   ]
  },
  {
   "cell_type": "code",
   "execution_count": 80,
   "metadata": {},
   "outputs": [
    {
     "name": "stdout",
     "output_type": "stream",
     "text": [
      "Number of league unique values: 6 \n",
      "\n",
      "Number of Teams unique values: 168\n"
     ]
    }
   ],
   "source": [
    "print(\"Number of league unique values:\", league_df[\"league\"].nunique(), \"\\n\")\n",
    "\n",
    "print(\"Number of Teams unique values:\", league_df[\"team\"].nunique())"
   ]
  },
  {
   "cell_type": "markdown",
   "metadata": {},
   "source": [
    "The fields with null values are: \n",
    "- conceded:\n",
    "    There are only 3 missing (null) values\n"
   ]
  },
  {
   "cell_type": "code",
   "execution_count": 81,
   "metadata": {},
   "outputs": [
    {
     "name": "stdout",
     "output_type": "stream",
     "text": [
      "<class 'pandas.core.frame.DataFrame'>\n",
      "RangeIndex: 684 entries, 0 to 683\n",
      "Data columns (total 11 columns):\n",
      " #   Column    Non-Null Count  Dtype  \n",
      "---  ------    --------------  -----  \n",
      " 0   league    684 non-null    object \n",
      " 1   year      684 non-null    int64  \n",
      " 2   position  684 non-null    int64  \n",
      " 3   team      684 non-null    object \n",
      " 4   matches   684 non-null    int64  \n",
      " 5   wins      684 non-null    int64  \n",
      " 6   draws     684 non-null    int64  \n",
      " 7   loses     684 non-null    int64  \n",
      " 8   scored    684 non-null    int64  \n",
      " 9   conceded  681 non-null    float64\n",
      " 10  pts       684 non-null    int64  \n",
      "dtypes: float64(1), int64(8), object(2)\n",
      "memory usage: 58.9+ KB\n"
     ]
    }
   ],
   "source": [
    "league_df.info()"
   ]
  },
  {
   "cell_type": "markdown",
   "metadata": {},
   "source": [
    "5. The number of teams in each league:\n",
    "   - Bundesliga:    24\n",
    "   - EPL:           30\n",
    "   - La_liga:       30\n",
    "   - Ligue_1:       29\n",
    "   - RFPL:          25\n",
    "   - Serie_A:       30\n",
    "\n",
    "The minimum number of teams in a league is - 24 "
   ]
  },
  {
   "cell_type": "code",
   "execution_count": 82,
   "metadata": {
    "scrolled": true
   },
   "outputs": [
    {
     "name": "stdout",
     "output_type": "stream",
     "text": [
      "league\n",
      "Bundesliga    24\n",
      "EPL           30\n",
      "La_liga       30\n",
      "Ligue_1       29\n",
      "RFPL          25\n",
      "Serie_A       30\n",
      "Name: team, dtype: int64 \n",
      "\n",
      "The minimum number of teams in a league is 24\n"
     ]
    }
   ],
   "source": [
    "teams_in_league = league_df.groupby(\"league\")[\"team\"].nunique()\n",
    "print(teams_in_league, \"\\n\")\n",
    "\n",
    "print(\"The minimum number of teams in a league is\", teams_in_league.min())"
   ]
  },
  {
   "cell_type": "markdown",
   "metadata": {},
   "source": [
    "7. The league with the biggest gap between the higest median number of goal and the lowest one is Ligue_1 with the higest one in 2018 and lowest one in 2019"
   ]
  },
  {
   "cell_type": "code",
   "execution_count": 89,
   "metadata": {
    "scrolled": true
   },
   "outputs": [
    {
     "name": "stdout",
     "output_type": "stream",
     "text": [
      "league      year\n",
      "Bundesliga  2014    44.0\n",
      "            2015    44.0\n",
      "            2016    44.5\n",
      "            2017    43.5\n",
      "            2018    53.0\n",
      "            2019    48.0\n",
      "EPL         2014    46.5\n",
      "            2015    48.5\n",
      "            2016    47.5\n",
      "            2017    44.5\n",
      "            2018    51.5\n",
      "            2019    46.5\n",
      "La_liga     2014    43.0\n",
      "            2015    45.5\n",
      "            2016    53.0\n",
      "            2017    46.5\n",
      "            2018    47.0\n",
      "            2019    46.0\n",
      "Ligue_1     2014    44.0\n",
      "            2015    46.0\n",
      "            2016    42.5\n",
      "            2017    45.5\n",
      "            2018    46.0\n",
      "            2019    33.0\n",
      "RFPL        2014    31.0\n",
      "            2015    34.5\n",
      "            2016    30.5\n",
      "            2017    31.5\n",
      "            2018    30.5\n",
      "            2019    36.5\n",
      "Serie_A     2014    49.0\n",
      "            2015    46.5\n",
      "            2016    56.0\n",
      "            2017    51.0\n",
      "            2018    51.5\n",
      "            2019    51.5\n",
      "Name: scored, dtype: float64\n"
     ]
    }
   ],
   "source": [
    "league_gb = league_df.groupby(['league', 'year'])['scored'].median()\n",
    "print(league_gb)"
   ]
  },
  {
   "cell_type": "code",
   "execution_count": null,
   "metadata": {},
   "outputs": [],
   "source": []
  },
  {
   "cell_type": "code",
   "execution_count": null,
   "metadata": {},
   "outputs": [],
   "source": []
  }
 ],
 "metadata": {
  "kernelspec": {
   "display_name": "Python 3 (ipykernel)",
   "language": "python",
   "name": "python3"
  },
  "language_info": {
   "codemirror_mode": {
    "name": "ipython",
    "version": 3
   },
   "file_extension": ".py",
   "mimetype": "text/x-python",
   "name": "python",
   "nbconvert_exporter": "python",
   "pygments_lexer": "ipython3",
   "version": "3.9.16"
  }
 },
 "nbformat": 4,
 "nbformat_minor": 2
}
