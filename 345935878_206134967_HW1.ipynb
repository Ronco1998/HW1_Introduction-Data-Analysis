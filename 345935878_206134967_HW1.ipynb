{
 "cells": [
  {
   "attachments": {},
   "cell_type": "markdown",
   "metadata": {},
   "source": [
    "# HW 1 - Question1"
   ]
  },
  {
   "cell_type": "code",
   "execution_count": 2,
   "metadata": {},
   "outputs": [],
   "source": [
    "import pandas as pd\n",
    "import numpy as np\n",
    "import matplotlib.pyplot as plt\n",
    "import seaborn as sns\n",
    "\n",
    "# Read the data\n",
    "league_df = pd.read_csv('HW1_data.csv')"
   ]
  },
  {
   "attachments": {},
   "cell_type": "markdown",
   "metadata": {},
   "source": [
    "1. We have  684 observations"
   ]
  },
  {
   "cell_type": "code",
   "execution_count": 41,
   "metadata": {},
   "outputs": [
    {
     "name": "stdout",
     "output_type": "stream",
     "text": [
      "<class 'pandas.core.frame.DataFrame'>\n",
      "RangeIndex: 684 entries, 0 to 683\n",
      "Data columns (total 11 columns):\n",
      " #   Column    Non-Null Count  Dtype  \n",
      "---  ------    --------------  -----  \n",
      " 0   league    684 non-null    object \n",
      " 1   year      684 non-null    int64  \n",
      " 2   position  684 non-null    int64  \n",
      " 3   team      684 non-null    object \n",
      " 4   matches   684 non-null    int64  \n",
      " 5   wins      684 non-null    int64  \n",
      " 6   draws     684 non-null    int64  \n",
      " 7   loses     684 non-null    int64  \n",
      " 8   scored    684 non-null    int64  \n",
      " 9   conceded  681 non-null    float64\n",
      " 10  pts       684 non-null    int64  \n",
      "dtypes: float64(1), int64(8), object(2)\n",
      "memory usage: 58.9+ KB\n"
     ]
    }
   ],
   "source": [
    "league_df.info()"
   ]
  },
  {
   "attachments": {},
   "cell_type": "markdown",
   "metadata": {},
   "source": [
    "### Categorical fields:\n",
    "    - League\n",
    "    - Team\n",
    "\n",
    "### Numerical fields:\n",
    "    - Year\n",
    "    - Position\n",
    "    - Matches\n",
    "    - Wins\n",
    "    - Draws\n",
    "    - Loses\n",
    "    - Scored\n",
    "    - Conceded\n",
    "    - Pts"
   ]
  },
  {
   "cell_type": "code",
   "execution_count": 42,
   "metadata": {},
   "outputs": [
    {
     "data": {
      "text/plain": [
       "league       object\n",
       "year          int64\n",
       "position      int64\n",
       "team         object\n",
       "matches       int64\n",
       "wins          int64\n",
       "draws         int64\n",
       "loses         int64\n",
       "scored        int64\n",
       "conceded    float64\n",
       "pts           int64\n",
       "dtype: object"
      ]
     },
     "execution_count": 42,
     "metadata": {},
     "output_type": "execute_result"
    }
   ],
   "source": [
    "league_df.dtypes"
   ]
  },
  {
   "attachments": {},
   "cell_type": "markdown",
   "metadata": {},
   "source": [
    "- Number of League unique values: 6\n",
    "- Number of Team unique values: 168"
   ]
  },
  {
   "cell_type": "code",
   "execution_count": 10,
   "metadata": {},
   "outputs": [
    {
     "name": "stdout",
     "output_type": "stream",
     "text": [
      "Number of league unique values: 6 \n",
      "\n",
      "Number of Teams unique values: 168\n",
      "Numer of unique year in each column: [2014 2015 2016 2017 2018 2019]\n"
     ]
    }
   ],
   "source": [
    "print(\"Number of league unique values:\", league_df[\"league\"].nunique(), \"\\n\")\n",
    "\n",
    "print(\"Number of Teams unique values:\", league_df[\"team\"].nunique())\n"
   ]
  },
  {
   "attachments": {},
   "cell_type": "markdown",
   "metadata": {},
   "source": [
    "#### The fields with null values are: \n",
    "- conceded:\n",
    "    There are only 3 missing (null) values\n"
   ]
  },
  {
   "cell_type": "code",
   "execution_count": 44,
   "metadata": {},
   "outputs": [
    {
     "data": {
      "text/html": [
       "<div>\n",
       "<style scoped>\n",
       "    .dataframe tbody tr th:only-of-type {\n",
       "        vertical-align: middle;\n",
       "    }\n",
       "\n",
       "    .dataframe tbody tr th {\n",
       "        vertical-align: top;\n",
       "    }\n",
       "\n",
       "    .dataframe thead th {\n",
       "        text-align: right;\n",
       "    }\n",
       "</style>\n",
       "<table border=\"1\" class=\"dataframe\">\n",
       "  <thead>\n",
       "    <tr style=\"text-align: right;\">\n",
       "      <th></th>\n",
       "      <th>league</th>\n",
       "      <th>year</th>\n",
       "      <th>position</th>\n",
       "      <th>team</th>\n",
       "      <th>matches</th>\n",
       "      <th>wins</th>\n",
       "      <th>draws</th>\n",
       "      <th>loses</th>\n",
       "      <th>scored</th>\n",
       "      <th>conceded</th>\n",
       "      <th>pts</th>\n",
       "    </tr>\n",
       "  </thead>\n",
       "  <tbody>\n",
       "    <tr>\n",
       "      <th>0</th>\n",
       "      <td>La_liga</td>\n",
       "      <td>2014</td>\n",
       "      <td>1</td>\n",
       "      <td>Barcelona</td>\n",
       "      <td>38</td>\n",
       "      <td>30</td>\n",
       "      <td>4</td>\n",
       "      <td>4</td>\n",
       "      <td>110</td>\n",
       "      <td>21.0</td>\n",
       "      <td>94</td>\n",
       "    </tr>\n",
       "    <tr>\n",
       "      <th>1</th>\n",
       "      <td>La_liga</td>\n",
       "      <td>2014</td>\n",
       "      <td>2</td>\n",
       "      <td>Real Madrid</td>\n",
       "      <td>38</td>\n",
       "      <td>30</td>\n",
       "      <td>2</td>\n",
       "      <td>6</td>\n",
       "      <td>118</td>\n",
       "      <td>38.0</td>\n",
       "      <td>92</td>\n",
       "    </tr>\n",
       "    <tr>\n",
       "      <th>2</th>\n",
       "      <td>La_liga</td>\n",
       "      <td>2014</td>\n",
       "      <td>3</td>\n",
       "      <td>Atletico Madrid</td>\n",
       "      <td>38</td>\n",
       "      <td>23</td>\n",
       "      <td>9</td>\n",
       "      <td>6</td>\n",
       "      <td>67</td>\n",
       "      <td>29.0</td>\n",
       "      <td>78</td>\n",
       "    </tr>\n",
       "    <tr>\n",
       "      <th>3</th>\n",
       "      <td>La_liga</td>\n",
       "      <td>2014</td>\n",
       "      <td>4</td>\n",
       "      <td>Valencia</td>\n",
       "      <td>38</td>\n",
       "      <td>22</td>\n",
       "      <td>11</td>\n",
       "      <td>5</td>\n",
       "      <td>70</td>\n",
       "      <td>32.0</td>\n",
       "      <td>77</td>\n",
       "    </tr>\n",
       "    <tr>\n",
       "      <th>4</th>\n",
       "      <td>La_liga</td>\n",
       "      <td>2014</td>\n",
       "      <td>5</td>\n",
       "      <td>Sevilla</td>\n",
       "      <td>38</td>\n",
       "      <td>23</td>\n",
       "      <td>7</td>\n",
       "      <td>8</td>\n",
       "      <td>71</td>\n",
       "      <td>45.0</td>\n",
       "      <td>76</td>\n",
       "    </tr>\n",
       "  </tbody>\n",
       "</table>\n",
       "</div>"
      ],
      "text/plain": [
       "    league  year  position             team  matches  wins  draws  loses  \\\n",
       "0  La_liga  2014         1        Barcelona       38    30      4      4   \n",
       "1  La_liga  2014         2      Real Madrid       38    30      2      6   \n",
       "2  La_liga  2014         3  Atletico Madrid       38    23      9      6   \n",
       "3  La_liga  2014         4         Valencia       38    22     11      5   \n",
       "4  La_liga  2014         5          Sevilla       38    23      7      8   \n",
       "\n",
       "   scored  conceded  pts  \n",
       "0     110      21.0   94  \n",
       "1     118      38.0   92  \n",
       "2      67      29.0   78  \n",
       "3      70      32.0   77  \n",
       "4      71      45.0   76  "
      ]
     },
     "execution_count": 44,
     "metadata": {},
     "output_type": "execute_result"
    }
   ],
   "source": [
    "league_df.head()"
   ]
  },
  {
   "attachments": {},
   "cell_type": "markdown",
   "metadata": {},
   "source": [
    "5. The number of teams in each league:\n",
    "   - Bundesliga:    24\n",
    "   - EPL:           30\n",
    "   - La_liga:       30\n",
    "   - Ligue_1:       29\n",
    "   - RFPL:          25\n",
    "   - Serie_A:       30\n",
    "\n",
    "The minimum number of teams in a league is - 24 "
   ]
  },
  {
   "cell_type": "code",
   "execution_count": 45,
   "metadata": {},
   "outputs": [
    {
     "name": "stdout",
     "output_type": "stream",
     "text": [
      "league\n",
      "Bundesliga    24\n",
      "EPL           30\n",
      "La_liga       30\n",
      "Ligue_1       29\n",
      "RFPL          25\n",
      "Serie_A       30\n",
      "Name: team, dtype: int64 \n",
      "\n",
      "The minimum number of teams in a league is 24\n"
     ]
    }
   ],
   "source": [
    "teams_in_league = league_df.groupby(\"league\")[\"team\"].nunique()\n",
    "print(teams_in_league, \"\\n\")\n",
    "\n",
    "print(\"The minimum number of teams in a league is\", teams_in_league.min())"
   ]
  },
  {
   "attachments": {},
   "cell_type": "markdown",
   "metadata": {},
   "source": [
    "According to the graph, the more the team score, the higher is her rank (position)"
   ]
  },
  {
   "cell_type": "code",
   "execution_count": 34,
   "metadata": {},
   "outputs": [
    {
     "name": "stderr",
     "output_type": "stream",
     "text": [
      "C:\\Users\\ronic\\AppData\\Local\\Temp\\ipykernel_10952\\3559445231.py:2: FutureWarning: The default value of numeric_only in DataFrameGroupBy.mean is deprecated. In a future version, numeric_only will default to False. Either specify numeric_only or select only columns which should be valid for the function.\n",
      "  mean_scored = league_df.groupby([\"year\", \"team\"]).mean()\n"
     ]
    },
    {
     "data": {
      "text/plain": [
       "year  team                   \n",
       "2014  AC Milan                   56.0\n",
       "      Almeria                    35.0\n",
       "      Amkar                      25.0\n",
       "      Arsenal                    71.0\n",
       "      Arsenal Tula               20.0\n",
       "                                 ... \n",
       "2019  Werder Bremen              42.0\n",
       "      West Ham                   49.0\n",
       "      Wolfsburg                  48.0\n",
       "      Wolverhampton Wanderers    51.0\n",
       "      Zenit St. Petersburg       65.0\n",
       "Name: scored, Length: 684, dtype: float64"
      ]
     },
     "metadata": {},
     "output_type": "display_data"
    },
    {
     "data": {
      "text/plain": [
       "(0.0, 21.326128982267335)"
      ]
     },
     "execution_count": 34,
     "metadata": {},
     "output_type": "execute_result"
    },
    {
     "data": {
      "image/png": "[encoded data removed]",
      "text/plain": [
       "<Figure size 640x480 with 1 Axes>"
      ]
     },
     "metadata": {},
     "output_type": "display_data"
    }
   ],
   "source": [
    "# the mean of scored goals for each team in each year\n",
    "mean_scored = league_df.groupby([\"year\", \"team\"]).mean()\n",
    "display(mean_scored[\"scored\"])\n",
    "\n",
    "# line plot of the mean of scored goals and position for each team in each year\n",
    "# x label is the mean of scored goals\n",
    "scord_position = sns.regplot(data=mean_scored, x=\"scored\", y=\"position\")\n",
    "scord_position.set(xlabel=\"Mean of scored goals\", ylabel=\"Position\")\n",
    "scord_position.set_ylim(bottom=0)\n"
   ]
  }
 ],
 "metadata": {
  "kernelspec": {
   "display_name": "base",
   "language": "python",
   "name": "python3"
  },
  "language_info": {
   "codemirror_mode": {
    "name": "ipython",
    "version": 3
   },
   "file_extension": ".py",
   "mimetype": "text/x-python",
   "name": "python",
   "nbconvert_exporter": "python",
   "pygments_lexer": "ipython3",
   "version": "3.10.9"
  },
  "orig_nbformat": 4
 },
 "nbformat": 4,
 "nbformat_minor": 2
}
